{
 "cells": [
  {
   "cell_type": "code",
   "execution_count": 1,
   "id": "c3f0f436-1d7d-4785-be46-a85ab1910abf",
   "metadata": {},
   "outputs": [],
   "source": [
    "import pandas as pd\n",
    "import matplotlib.pyplot as plt\n",
    "import seaborn as sns"
   ]
  },
  {
   "cell_type": "code",
   "execution_count": 2,
   "id": "1dea99f8-1222-44fa-b48c-173be24b6756",
   "metadata": {},
   "outputs": [],
   "source": [
    "# Load the datasets\n",
    "df_purchase = pd.read_csv(\"purchase_behaviour.csv\")\n",
    "df_transactions = pd.read_csv(\"transaction_data.csv\")"
   ]
  },
  {
   "cell_type": "code",
   "execution_count": 3,
   "id": "9adefd0b-eb2e-49b2-8a4c-003622700afc",
   "metadata": {},
   "outputs": [
    {
     "name": "stdout",
     "output_type": "stream",
     "text": [
      "<class 'pandas.core.frame.DataFrame'>\n",
      "RangeIndex: 72637 entries, 0 to 72636\n",
      "Data columns (total 3 columns):\n",
      " #   Column            Non-Null Count  Dtype \n",
      "---  ------            --------------  ----- \n",
      " 0   LYLTY_CARD_NBR    72637 non-null  int64 \n",
      " 1   LIFESTAGE         72637 non-null  object\n",
      " 2   PREMIUM_CUSTOMER  72637 non-null  object\n",
      "dtypes: int64(1), object(2)\n",
      "memory usage: 1.7+ MB\n",
      "None\n",
      "<class 'pandas.core.frame.DataFrame'>\n",
      "RangeIndex: 264836 entries, 0 to 264835\n",
      "Data columns (total 8 columns):\n",
      " #   Column          Non-Null Count   Dtype  \n",
      "---  ------          --------------   -----  \n",
      " 0   DATE            264836 non-null  int64  \n",
      " 1   STORE_NBR       264836 non-null  int64  \n",
      " 2   LYLTY_CARD_NBR  264836 non-null  int64  \n",
      " 3   TXN_ID          264836 non-null  int64  \n",
      " 4   PROD_NBR        264836 non-null  int64  \n",
      " 5   PROD_NAME       264836 non-null  object \n",
      " 6   PROD_QTY        264836 non-null  int64  \n",
      " 7   TOT_SALES       264836 non-null  float64\n",
      "dtypes: float64(1), int64(6), object(1)\n",
      "memory usage: 16.2+ MB\n",
      "None\n"
     ]
    }
   ],
   "source": [
    "# Display basic info\n",
    "print(df_purchase.info())\n",
    "print(df_transactions.info())"
   ]
  },
  {
   "cell_type": "code",
   "execution_count": 4,
   "id": "81de5791-5a0e-4bb6-a53c-c3e0a29708c4",
   "metadata": {},
   "outputs": [
    {
     "data": {
      "text/html": [
       "<div>\n",
       "<style scoped>\n",
       "    .dataframe tbody tr th:only-of-type {\n",
       "        vertical-align: middle;\n",
       "    }\n",
       "\n",
       "    .dataframe tbody tr th {\n",
       "        vertical-align: top;\n",
       "    }\n",
       "\n",
       "    .dataframe thead th {\n",
       "        text-align: right;\n",
       "    }\n",
       "</style>\n",
       "<table border=\"1\" class=\"dataframe\">\n",
       "  <thead>\n",
       "    <tr style=\"text-align: right;\">\n",
       "      <th></th>\n",
       "      <th>LYLTY_CARD_NBR</th>\n",
       "      <th>LIFESTAGE</th>\n",
       "      <th>PREMIUM_CUSTOMER</th>\n",
       "    </tr>\n",
       "  </thead>\n",
       "  <tbody>\n",
       "    <tr>\n",
       "      <th>0</th>\n",
       "      <td>1000</td>\n",
       "      <td>YOUNG SINGLES/COUPLES</td>\n",
       "      <td>Premium</td>\n",
       "    </tr>\n",
       "    <tr>\n",
       "      <th>1</th>\n",
       "      <td>1002</td>\n",
       "      <td>YOUNG SINGLES/COUPLES</td>\n",
       "      <td>Mainstream</td>\n",
       "    </tr>\n",
       "    <tr>\n",
       "      <th>2</th>\n",
       "      <td>1003</td>\n",
       "      <td>YOUNG FAMILIES</td>\n",
       "      <td>Budget</td>\n",
       "    </tr>\n",
       "    <tr>\n",
       "      <th>3</th>\n",
       "      <td>1004</td>\n",
       "      <td>OLDER SINGLES/COUPLES</td>\n",
       "      <td>Mainstream</td>\n",
       "    </tr>\n",
       "    <tr>\n",
       "      <th>4</th>\n",
       "      <td>1005</td>\n",
       "      <td>MIDAGE SINGLES/COUPLES</td>\n",
       "      <td>Mainstream</td>\n",
       "    </tr>\n",
       "  </tbody>\n",
       "</table>\n",
       "</div>"
      ],
      "text/plain": [
       "   LYLTY_CARD_NBR               LIFESTAGE PREMIUM_CUSTOMER\n",
       "0            1000   YOUNG SINGLES/COUPLES          Premium\n",
       "1            1002   YOUNG SINGLES/COUPLES       Mainstream\n",
       "2            1003          YOUNG FAMILIES           Budget\n",
       "3            1004   OLDER SINGLES/COUPLES       Mainstream\n",
       "4            1005  MIDAGE SINGLES/COUPLES       Mainstream"
      ]
     },
     "execution_count": 4,
     "metadata": {},
     "output_type": "execute_result"
    }
   ],
   "source": [
    "# Preview first few rows\n",
    "df_purchase.head()"
   ]
  },
  {
   "cell_type": "code",
   "execution_count": 5,
   "id": "e5fca944-7340-4031-b98b-8e51aabb00d2",
   "metadata": {},
   "outputs": [
    {
     "data": {
      "text/html": [
       "<div>\n",
       "<style scoped>\n",
       "    .dataframe tbody tr th:only-of-type {\n",
       "        vertical-align: middle;\n",
       "    }\n",
       "\n",
       "    .dataframe tbody tr th {\n",
       "        vertical-align: top;\n",
       "    }\n",
       "\n",
       "    .dataframe thead th {\n",
       "        text-align: right;\n",
       "    }\n",
       "</style>\n",
       "<table border=\"1\" class=\"dataframe\">\n",
       "  <thead>\n",
       "    <tr style=\"text-align: right;\">\n",
       "      <th></th>\n",
       "      <th>DATE</th>\n",
       "      <th>STORE_NBR</th>\n",
       "      <th>LYLTY_CARD_NBR</th>\n",
       "      <th>TXN_ID</th>\n",
       "      <th>PROD_NBR</th>\n",
       "      <th>PROD_NAME</th>\n",
       "      <th>PROD_QTY</th>\n",
       "      <th>TOT_SALES</th>\n",
       "    </tr>\n",
       "  </thead>\n",
       "  <tbody>\n",
       "    <tr>\n",
       "      <th>0</th>\n",
       "      <td>43390</td>\n",
       "      <td>1</td>\n",
       "      <td>1000</td>\n",
       "      <td>1</td>\n",
       "      <td>5</td>\n",
       "      <td>Natural Chip        Compny SeaSalt175g</td>\n",
       "      <td>2</td>\n",
       "      <td>6.0</td>\n",
       "    </tr>\n",
       "    <tr>\n",
       "      <th>1</th>\n",
       "      <td>43599</td>\n",
       "      <td>1</td>\n",
       "      <td>1307</td>\n",
       "      <td>348</td>\n",
       "      <td>66</td>\n",
       "      <td>CCs Nacho Cheese    175g</td>\n",
       "      <td>3</td>\n",
       "      <td>6.3</td>\n",
       "    </tr>\n",
       "    <tr>\n",
       "      <th>2</th>\n",
       "      <td>43605</td>\n",
       "      <td>1</td>\n",
       "      <td>1343</td>\n",
       "      <td>383</td>\n",
       "      <td>61</td>\n",
       "      <td>Smiths Crinkle Cut  Chips Chicken 170g</td>\n",
       "      <td>2</td>\n",
       "      <td>2.9</td>\n",
       "    </tr>\n",
       "    <tr>\n",
       "      <th>3</th>\n",
       "      <td>43329</td>\n",
       "      <td>2</td>\n",
       "      <td>2373</td>\n",
       "      <td>974</td>\n",
       "      <td>69</td>\n",
       "      <td>Smiths Chip Thinly  S/Cream&amp;Onion 175g</td>\n",
       "      <td>5</td>\n",
       "      <td>15.0</td>\n",
       "    </tr>\n",
       "    <tr>\n",
       "      <th>4</th>\n",
       "      <td>43330</td>\n",
       "      <td>2</td>\n",
       "      <td>2426</td>\n",
       "      <td>1038</td>\n",
       "      <td>108</td>\n",
       "      <td>Kettle Tortilla ChpsHny&amp;Jlpno Chili 150g</td>\n",
       "      <td>3</td>\n",
       "      <td>13.8</td>\n",
       "    </tr>\n",
       "  </tbody>\n",
       "</table>\n",
       "</div>"
      ],
      "text/plain": [
       "    DATE  STORE_NBR  LYLTY_CARD_NBR  TXN_ID  PROD_NBR  \\\n",
       "0  43390          1            1000       1         5   \n",
       "1  43599          1            1307     348        66   \n",
       "2  43605          1            1343     383        61   \n",
       "3  43329          2            2373     974        69   \n",
       "4  43330          2            2426    1038       108   \n",
       "\n",
       "                                  PROD_NAME  PROD_QTY  TOT_SALES  \n",
       "0    Natural Chip        Compny SeaSalt175g         2        6.0  \n",
       "1                  CCs Nacho Cheese    175g         3        6.3  \n",
       "2    Smiths Crinkle Cut  Chips Chicken 170g         2        2.9  \n",
       "3    Smiths Chip Thinly  S/Cream&Onion 175g         5       15.0  \n",
       "4  Kettle Tortilla ChpsHny&Jlpno Chili 150g         3       13.8  "
      ]
     },
     "execution_count": 5,
     "metadata": {},
     "output_type": "execute_result"
    }
   ],
   "source": [
    "df_transactions.head()"
   ]
  },
  {
   "cell_type": "code",
   "execution_count": 6,
   "id": "bbcd93a1-29c5-4ed4-8dda-aacd3d73a3ac",
   "metadata": {},
   "outputs": [],
   "source": [
    "df = df_transactions.merge(df_purchase, on=\"LYLTY_CARD_NBR\", how=\"left\")"
   ]
  },
  {
   "cell_type": "code",
   "execution_count": 7,
   "id": "9321d75f-40df-4a45-91f7-395fb71d6e40",
   "metadata": {},
   "outputs": [
    {
     "data": {
      "text/html": [
       "<div>\n",
       "<style scoped>\n",
       "    .dataframe tbody tr th:only-of-type {\n",
       "        vertical-align: middle;\n",
       "    }\n",
       "\n",
       "    .dataframe tbody tr th {\n",
       "        vertical-align: top;\n",
       "    }\n",
       "\n",
       "    .dataframe thead th {\n",
       "        text-align: right;\n",
       "    }\n",
       "</style>\n",
       "<table border=\"1\" class=\"dataframe\">\n",
       "  <thead>\n",
       "    <tr style=\"text-align: right;\">\n",
       "      <th></th>\n",
       "      <th>DATE</th>\n",
       "      <th>STORE_NBR</th>\n",
       "      <th>LYLTY_CARD_NBR</th>\n",
       "      <th>TXN_ID</th>\n",
       "      <th>PROD_NBR</th>\n",
       "      <th>PROD_NAME</th>\n",
       "      <th>PROD_QTY</th>\n",
       "      <th>TOT_SALES</th>\n",
       "      <th>LIFESTAGE</th>\n",
       "      <th>PREMIUM_CUSTOMER</th>\n",
       "    </tr>\n",
       "  </thead>\n",
       "  <tbody>\n",
       "    <tr>\n",
       "      <th>0</th>\n",
       "      <td>43390</td>\n",
       "      <td>1</td>\n",
       "      <td>1000</td>\n",
       "      <td>1</td>\n",
       "      <td>5</td>\n",
       "      <td>Natural Chip        Compny SeaSalt175g</td>\n",
       "      <td>2</td>\n",
       "      <td>6.0</td>\n",
       "      <td>YOUNG SINGLES/COUPLES</td>\n",
       "      <td>Premium</td>\n",
       "    </tr>\n",
       "    <tr>\n",
       "      <th>1</th>\n",
       "      <td>43599</td>\n",
       "      <td>1</td>\n",
       "      <td>1307</td>\n",
       "      <td>348</td>\n",
       "      <td>66</td>\n",
       "      <td>CCs Nacho Cheese    175g</td>\n",
       "      <td>3</td>\n",
       "      <td>6.3</td>\n",
       "      <td>MIDAGE SINGLES/COUPLES</td>\n",
       "      <td>Budget</td>\n",
       "    </tr>\n",
       "    <tr>\n",
       "      <th>2</th>\n",
       "      <td>43605</td>\n",
       "      <td>1</td>\n",
       "      <td>1343</td>\n",
       "      <td>383</td>\n",
       "      <td>61</td>\n",
       "      <td>Smiths Crinkle Cut  Chips Chicken 170g</td>\n",
       "      <td>2</td>\n",
       "      <td>2.9</td>\n",
       "      <td>MIDAGE SINGLES/COUPLES</td>\n",
       "      <td>Budget</td>\n",
       "    </tr>\n",
       "    <tr>\n",
       "      <th>3</th>\n",
       "      <td>43329</td>\n",
       "      <td>2</td>\n",
       "      <td>2373</td>\n",
       "      <td>974</td>\n",
       "      <td>69</td>\n",
       "      <td>Smiths Chip Thinly  S/Cream&amp;Onion 175g</td>\n",
       "      <td>5</td>\n",
       "      <td>15.0</td>\n",
       "      <td>MIDAGE SINGLES/COUPLES</td>\n",
       "      <td>Budget</td>\n",
       "    </tr>\n",
       "    <tr>\n",
       "      <th>4</th>\n",
       "      <td>43330</td>\n",
       "      <td>2</td>\n",
       "      <td>2426</td>\n",
       "      <td>1038</td>\n",
       "      <td>108</td>\n",
       "      <td>Kettle Tortilla ChpsHny&amp;Jlpno Chili 150g</td>\n",
       "      <td>3</td>\n",
       "      <td>13.8</td>\n",
       "      <td>MIDAGE SINGLES/COUPLES</td>\n",
       "      <td>Budget</td>\n",
       "    </tr>\n",
       "  </tbody>\n",
       "</table>\n",
       "</div>"
      ],
      "text/plain": [
       "    DATE  STORE_NBR  LYLTY_CARD_NBR  TXN_ID  PROD_NBR  \\\n",
       "0  43390          1            1000       1         5   \n",
       "1  43599          1            1307     348        66   \n",
       "2  43605          1            1343     383        61   \n",
       "3  43329          2            2373     974        69   \n",
       "4  43330          2            2426    1038       108   \n",
       "\n",
       "                                  PROD_NAME  PROD_QTY  TOT_SALES  \\\n",
       "0    Natural Chip        Compny SeaSalt175g         2        6.0   \n",
       "1                  CCs Nacho Cheese    175g         3        6.3   \n",
       "2    Smiths Crinkle Cut  Chips Chicken 170g         2        2.9   \n",
       "3    Smiths Chip Thinly  S/Cream&Onion 175g         5       15.0   \n",
       "4  Kettle Tortilla ChpsHny&Jlpno Chili 150g         3       13.8   \n",
       "\n",
       "                LIFESTAGE PREMIUM_CUSTOMER  \n",
       "0   YOUNG SINGLES/COUPLES          Premium  \n",
       "1  MIDAGE SINGLES/COUPLES           Budget  \n",
       "2  MIDAGE SINGLES/COUPLES           Budget  \n",
       "3  MIDAGE SINGLES/COUPLES           Budget  \n",
       "4  MIDAGE SINGLES/COUPLES           Budget  "
      ]
     },
     "execution_count": 7,
     "metadata": {},
     "output_type": "execute_result"
    }
   ],
   "source": [
    "df.head(5)"
   ]
  },
  {
   "cell_type": "code",
   "execution_count": 9,
   "id": "2738dd09-b11f-4311-96b1-e61eac844d8a",
   "metadata": {},
   "outputs": [
    {
     "data": {
      "text/plain": [
       "DATE                0\n",
       "STORE_NBR           0\n",
       "LYLTY_CARD_NBR      0\n",
       "TXN_ID              0\n",
       "PROD_NBR            0\n",
       "PROD_NAME           0\n",
       "PROD_QTY            0\n",
       "TOT_SALES           0\n",
       "LIFESTAGE           0\n",
       "PREMIUM_CUSTOMER    0\n",
       "dtype: int64"
      ]
     },
     "execution_count": 9,
     "metadata": {},
     "output_type": "execute_result"
    }
   ],
   "source": [
    "df.isnull().sum()"
   ]
  },
  {
   "cell_type": "code",
   "execution_count": 16,
   "id": "ce1f86f2-baec-4d4e-bc9d-3721e52d078d",
   "metadata": {},
   "outputs": [
    {
     "name": "stdout",
     "output_type": "stream",
     "text": [
      "<class 'pandas.core.frame.DataFrame'>\n",
      "RangeIndex: 264836 entries, 0 to 264835\n",
      "Data columns (total 10 columns):\n",
      " #   Column            Non-Null Count   Dtype  \n",
      "---  ------            --------------   -----  \n",
      " 0   DATE              264836 non-null  int64  \n",
      " 1   STORE_NBR         264836 non-null  int64  \n",
      " 2   LYLTY_CARD_NBR    264836 non-null  int64  \n",
      " 3   TXN_ID            264836 non-null  int64  \n",
      " 4   PROD_NBR          264836 non-null  int64  \n",
      " 5   PROD_NAME         264836 non-null  object \n",
      " 6   PROD_QTY          264836 non-null  int64  \n",
      " 7   TOT_SALES         264836 non-null  float64\n",
      " 8   LIFESTAGE         264836 non-null  object \n",
      " 9   PREMIUM_CUSTOMER  264836 non-null  object \n",
      "dtypes: float64(1), int64(6), object(3)\n",
      "memory usage: 20.2+ MB\n"
     ]
    }
   ],
   "source": [
    "df.info()"
   ]
  },
  {
   "cell_type": "code",
   "execution_count": 18,
   "id": "54c886ff-518e-481b-aa59-0be8d730df64",
   "metadata": {},
   "outputs": [
    {
     "data": {
      "text/plain": [
       "PREMIUM_CUSTOMER\n",
       "Mainstream    101988\n",
       "Budget         93157\n",
       "Premium        69691\n",
       "Name: count, dtype: int64"
      ]
     },
     "execution_count": 18,
     "metadata": {},
     "output_type": "execute_result"
    }
   ],
   "source": [
    "df['PREMIUM_CUSTOMER'].value_counts()"
   ]
  },
  {
   "cell_type": "code",
   "execution_count": 21,
   "id": "d8aa4efb-69ab-4dc7-b39c-3a79752875f8",
   "metadata": {},
   "outputs": [
    {
     "data": {
      "text/plain": [
       "LIFESTAGE\n",
       "OLDER SINGLES/COUPLES     54479\n",
       "RETIREES                  49763\n",
       "OLDER FAMILIES            48596\n",
       "YOUNG FAMILIES            43592\n",
       "YOUNG SINGLES/COUPLES     36377\n",
       "MIDAGE SINGLES/COUPLES    25110\n",
       "NEW FAMILIES               6919\n",
       "Name: count, dtype: int64"
      ]
     },
     "execution_count": 21,
     "metadata": {},
     "output_type": "execute_result"
    }
   ],
   "source": [
    "df['LIFESTAGE'].value_counts()"
   ]
  },
  {
   "cell_type": "code",
   "execution_count": 23,
   "id": "b702eddb-524b-4c76-a404-478a845b414b",
   "metadata": {},
   "outputs": [],
   "source": [
    "#Finding most important market segment"
   ]
  },
  {
   "cell_type": "code",
   "execution_count": 25,
   "id": "9c21a1bf-e8dd-4690-8bb9-2481891d4763",
   "metadata": {},
   "outputs": [
    {
     "name": "stdout",
     "output_type": "stream",
     "text": [
      "       LYLTY_CARD_NBR  TOT_SALES\n",
      "59694          226000    1300.00\n",
      "60925          230078     138.60\n",
      "17292           63197     132.80\n",
      "69017          259009     127.20\n",
      "42813          162039     126.80\n",
      "16001           58361     124.80\n",
      "61001          230154     124.40\n",
      "25958           94185     122.80\n",
      "35338          130090     122.65\n",
      "47959          179228     120.80\n"
     ]
    }
   ],
   "source": [
    "#To find the most profitable customers, we calculate total spending per customer\n",
    "customer_revenue = df.groupby(\"LYLTY_CARD_NBR\")[\"TOT_SALES\"].sum().reset_index()\n",
    "most_profitable_customers = customer_revenue.sort_values(by=\"TOT_SALES\", ascending=False)\n",
    "print(most_profitable_customers.head(10))  # Top 10 highest-spending customers"
   ]
  },
  {
   "cell_type": "code",
   "execution_count": 27,
   "id": "25349e75-4aca-4a25-b6f2-4260afca63a4",
   "metadata": {},
   "outputs": [],
   "source": [
    "#Now we will find about the Characteristics of Profitable Customers"
   ]
  },
  {
   "cell_type": "code",
   "execution_count": 29,
   "id": "9715aa8b-1ef8-4afd-b514-cd8d2c75a6a6",
   "metadata": {},
   "outputs": [
    {
     "name": "stdout",
     "output_type": "stream",
     "text": [
      "                 LIFESTAGE PREMIUM_CUSTOMER  Count\n",
      "19   YOUNG SINGLES/COUPLES       Mainstream   8088\n",
      "13                RETIREES       Mainstream   6479\n",
      "10   OLDER SINGLES/COUPLES       Mainstream   4930\n",
      "9    OLDER SINGLES/COUPLES           Budget   4929\n",
      "11   OLDER SINGLES/COUPLES          Premium   4750\n",
      "6           OLDER FAMILIES           Budget   4675\n",
      "12                RETIREES           Budget   4454\n",
      "15          YOUNG FAMILIES           Budget   4017\n",
      "14                RETIREES          Premium   3872\n",
      "18   YOUNG SINGLES/COUPLES           Budget   3779\n",
      "1   MIDAGE SINGLES/COUPLES       Mainstream   3340\n",
      "7           OLDER FAMILIES       Mainstream   2831\n",
      "16          YOUNG FAMILIES       Mainstream   2728\n",
      "20   YOUNG SINGLES/COUPLES          Premium   2574\n",
      "17          YOUNG FAMILIES          Premium   2433\n",
      "2   MIDAGE SINGLES/COUPLES          Premium   2431\n",
      "8           OLDER FAMILIES          Premium   2274\n",
      "0   MIDAGE SINGLES/COUPLES           Budget   1504\n",
      "3             NEW FAMILIES           Budget   1112\n",
      "4             NEW FAMILIES       Mainstream    849\n",
      "5             NEW FAMILIES          Premium    588\n"
     ]
    }
   ],
   "source": [
    "profitable_segments = most_profitable_customers.merge(df_purchase, on=\"LYLTY_CARD_NBR\", how=\"left\")\n",
    "\n",
    "segment_analysis = profitable_segments.groupby([\"LIFESTAGE\", \"PREMIUM_CUSTOMER\"]).size().reset_index(name=\"Count\")\n",
    "print(segment_analysis.sort_values(by=\"Count\", ascending=False))"
   ]
  },
  {
   "cell_type": "code",
   "execution_count": 31,
   "id": "3ef4c5f6-f274-4d58-bef6-68b64d020d91",
   "metadata": {},
   "outputs": [],
   "source": [
    "#Interpretation\n",
    "# Mainstream customers are having a larger count therefore are more important market segment\n",
    "# As we can see and interpret older single/couples are of a great number therefore we can conclude that older peoples are a important market segment"
   ]
  },
  {
   "cell_type": "code",
   "execution_count": 33,
   "id": "44054bde-d2f8-4ea8-bbff-43cc86694703",
   "metadata": {},
   "outputs": [],
   "source": [
    "#Identifying the bestselling products"
   ]
  },
  {
   "cell_type": "code",
   "execution_count": 35,
   "id": "a8fda57e-d197-4269-bfe4-80753adc7048",
   "metadata": {},
   "outputs": [
    {
     "name": "stdout",
     "output_type": "stream",
     "text": [
      "PROD_NAME\n",
      "Dorito Corn Chp     Supreme 380g            40352.0\n",
      "Smiths Crnkle Chip  Orgnl Big Bag 380g      36367.6\n",
      "Smiths Crinkle Chips Salt & Vinegar 330g    34804.2\n",
      "Name: TOT_SALES, dtype: float64\n"
     ]
    }
   ],
   "source": [
    "#Top 3 Products by Total Sales Revenue\n",
    "\n",
    "top_products_revenue = df_transactions.groupby(\"PROD_NAME\")[\"TOT_SALES\"].sum().sort_values(ascending=False).head(3)\n",
    "print(top_products_revenue)"
   ]
  },
  {
   "cell_type": "code",
   "execution_count": 37,
   "id": "f2cfb90a-fdce-459a-9e50-eeae19be4f08",
   "metadata": {},
   "outputs": [
    {
     "name": "stdout",
     "output_type": "stream",
     "text": [
      "PROD_NAME\n",
      "Dorito Corn Chp     Supreme 380g            6509\n",
      "Kettle Mozzarella   Basil & Pesto 175g      6381\n",
      "Kettle Tortilla ChpsHny&Jlpno Chili 150g    6309\n",
      "Name: PROD_QTY, dtype: int64\n"
     ]
    }
   ],
   "source": [
    "#Top 3 Products by Quantity Sold\n",
    "\n",
    "top_products_quantity = df_transactions.groupby(\"PROD_NAME\")[\"PROD_QTY\"].sum().sort_values(ascending=False).head(3)\n",
    "print(top_products_quantity)"
   ]
  },
  {
   "cell_type": "code",
   "execution_count": 39,
   "id": "9f91f63f-1a85-40db-99c9-26a3d99d6c38",
   "metadata": {},
   "outputs": [],
   "source": [
    "# Bestselling products\n",
    "# -> By Total Sales Revenue:\n",
    "# 1. Dorito Corn Chp     Supreme 380g            \n",
    "# 2. Smiths Crnkle Chip  Orgnl Big Bag 380g      \n",
    "# 3. Smiths Crinkle Chips Salt & Vinegar 330g\n",
    "\n",
    "# -> By Total Quantity Sold:\n",
    "# 1. Dorito Corn Chp     Supreme 380g            \n",
    "# 2. Kettle Mozzarella   Basil & Pesto 175g      \n",
    "# 3. Kettle Tortilla ChpsHny&Jlpno Chili 150g"
   ]
  },
  {
   "cell_type": "code",
   "execution_count": 41,
   "id": "6852174c-6e3d-4bfc-b763-1f87d6381d18",
   "metadata": {},
   "outputs": [],
   "source": [
    "#Notes\n",
    "#Can also find out about customer lifestyle & spending patterns from purchase_behaviour.csv for these products"
   ]
  },
  {
   "cell_type": "code",
   "execution_count": 43,
   "id": "53eb2375-7b73-411b-9932-65a12c2dd1ee",
   "metadata": {},
   "outputs": [
    {
     "name": "stdout",
     "output_type": "stream",
     "text": [
      "                                   PROD_NAME  TOT_SALES\n",
      "11          Dorito Corn Chp     Supreme 380g    40352.0\n",
      "86    Smiths Crnkle Chip  Orgnl Big Bag 380g    36367.6\n",
      "77  Smiths Crinkle Chips Salt & Vinegar 330g    34804.2\n"
     ]
    }
   ],
   "source": [
    "# Top 3 most profitable products\n",
    "top_products = df.groupby(\"PROD_NAME\")[\"TOT_SALES\"].sum().reset_index()\n",
    "top_products = top_products.sort_values(by=\"TOT_SALES\", ascending=False)\n",
    "top_3_products = top_products.head(3)\n",
    "print(top_3_products)"
   ]
  },
  {
   "cell_type": "code",
   "execution_count": 45,
   "id": "b92ac5ca-b568-43cf-ae38-42c66c823bc7",
   "metadata": {},
   "outputs": [],
   "source": [
    "# To identify Most Loyal Customers"
   ]
  },
  {
   "cell_type": "code",
   "execution_count": 47,
   "id": "6677cd6e-2b62-4e3e-b1a2-42d7c7131886",
   "metadata": {},
   "outputs": [
    {
     "name": "stdout",
     "output_type": "stream",
     "text": [
      "LYLTY_CARD_NBR\n",
      "172032    18\n",
      "162039    18\n",
      "230078    17\n",
      "128178    17\n",
      "13138     17\n",
      "116181    17\n",
      "222242    16\n",
      "94185     16\n",
      "113080    16\n",
      "109036    16\n",
      "Name: count, dtype: int64\n"
     ]
    }
   ],
   "source": [
    "# I am defining loyalty by purchase frequency\n",
    "\n",
    "loyal_customers = df[\"LYLTY_CARD_NBR\"].value_counts().head(10)  # Top 10 loyal customers\n",
    "print(loyal_customers)"
   ]
  },
  {
   "cell_type": "code",
   "execution_count": 49,
   "id": "361a3fbf-5221-4f38-b9ed-cb9e1c28afed",
   "metadata": {},
   "outputs": [],
   "source": [
    "# Filter the transactions for the top 10 loyal customers\n",
    "loyal_customer_transactions = df[df[\"LYLTY_CARD_NBR\"].isin(loyal_customers.index)]"
   ]
  },
  {
   "cell_type": "code",
   "execution_count": 51,
   "id": "a244cd16-5463-4b17-8fb3-737c61b6fd58",
   "metadata": {},
   "outputs": [
    {
     "name": "stdout",
     "output_type": "stream",
     "text": [
      "PROD_NAME\n",
      "Smiths Crinkle Cut  Chips Chs&Onion170g    7\n",
      "Infzns Crn Crnchers Tangy Gcamole 110g     5\n",
      "RRD Pc Sea Salt     165g                   5\n",
      "Twisties Cheese     Burger 250g            5\n",
      "Doritos Corn Chip Mexican Jalapeno 150g    5\n",
      "Woolworths Medium   Salsa 300g             4\n",
      "Tostitos Smoked     Chipotle 175g          4\n",
      "Natural Chip        Compny SeaSalt175g     4\n",
      "Cheetos Chs & Bacon Balls 190g             4\n",
      "Thins Chips Seasonedchicken 175g           3\n",
      "Name: count, dtype: int64\n"
     ]
    }
   ],
   "source": [
    "# Count product purchases among loyal customers\n",
    "loyal_product_preferences = loyal_customer_transactions[\"PROD_NAME\"].value_counts().head(10)\n",
    "\n",
    "print(loyal_product_preferences)"
   ]
  },
  {
   "cell_type": "code",
   "execution_count": 53,
   "id": "3d3ff4c4-002c-432d-8bfb-fae63f523931",
   "metadata": {},
   "outputs": [
    {
     "data": {
      "image/png": "[encoded data removed]",
      "text/plain": [
       "<Figure size 1000x500 with 1 Axes>"
      ]
     },
     "metadata": {},
     "output_type": "display_data"
    }
   ],
   "source": [
    "plt.figure(figsize=(10,5))\n",
    "sns.barplot(x=loyal_product_preferences.index, y=loyal_product_preferences.values)\n",
    "plt.title(\"Top Products Preferred by Loyal Customers\")\n",
    "plt.xticks(rotation=45)\n",
    "plt.show()"
   ]
  },
  {
   "cell_type": "code",
   "execution_count": 55,
   "id": "b9761623-efca-4452-97b9-6a42fabbf310",
   "metadata": {},
   "outputs": [],
   "source": [
    "# This suggests that loyal customers are heavy snack buyers rather than grocery or household item shoppers.\n",
    "# Popular brands include Smiths, Doritos, Twisties, and Cheetos, indicating that these brands may have strong customer retention."
   ]
  },
  {
   "cell_type": "code",
   "execution_count": 57,
   "id": "d397eff3-1ee4-434e-a5b1-10be1ec2eb23",
   "metadata": {},
   "outputs": [],
   "source": [
    "# Hypothesis – Why These Customers Prefer These Products?\n",
    "# -> Frequent Snackers or Family Buyers\n",
    "# -> Brand Loyalty to Smiths, Doritos, and Twisties\n",
    "\n",
    "\n",
    "# Possible Marketing Strategy\n",
    "# -> Bundle the most frequently purchased snacks together as a “Loyalty Snack Pack”.\n",
    "# -> Offer exclusive discounts or loyalty rewards on these specific brands.\n",
    "# -> Personalized promotions for repeat snack buyers, such as “Buy 3, Get 1 Free” offers."
   ]
  }
 ],
 "metadata": {
  "kernelspec": {
   "display_name": "Python [conda env:base] *",
   "language": "python",
   "name": "conda-base-py"
  },
  "language_info": {
   "codemirror_mode": {
    "name": "ipython",
    "version": 3
   },
   "file_extension": ".py",
   "mimetype": "text/x-python",
   "name": "python",
   "nbconvert_exporter": "python",
   "pygments_lexer": "ipython3",
   "version": "3.11.11"
  }
 },
 "nbformat": 4,
 "nbformat_minor": 5
}
